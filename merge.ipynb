{
 "cells": [
  {
   "cell_type": "code",
   "execution_count": 42,
   "id": "e94117b0",
   "metadata": {},
   "outputs": [],
   "source": [
    "import pandas as pd"
   ]
  },
  {
   "cell_type": "code",
   "execution_count": 43,
   "id": "3f3755aa",
   "metadata": {},
   "outputs": [],
   "source": [
    "main_df = pd.read_excel('Phoenix_Rental_With_Corporation.xlsx',sheet_name=1, index_col=0)\n",
    "corp_df = pd.read_excel('Phoenix_Rental_Cleaned.xlsx',sheet_name=1, index_col=0)"
   ]
  },
  {
   "cell_type": "code",
   "execution_count": 44,
   "id": "75134fdf",
   "metadata": {},
   "outputs": [],
   "source": [
    "main_df['is_top_corpo']=0"
   ]
  },
  {
   "cell_type": "code",
   "execution_count": 45,
   "id": "5f3590e3",
   "metadata": {},
   "outputs": [
    {
     "name": "stdout",
     "output_type": "stream",
     "text": [
      "0\n"
     ]
    },
    {
     "ename": "AttributeError",
     "evalue": "can't set attribute",
     "output_type": "error",
     "traceback": [
      "\u001b[0;31m---------------------------------------------------------------------------\u001b[0m",
      "\u001b[0;31mAttributeError\u001b[0m                            Traceback (most recent call last)",
      "Input \u001b[0;32mIn [45]\u001b[0m, in \u001b[0;36m<module>\u001b[0;34m\u001b[0m\n\u001b[1;32m      7\u001b[0m     row\u001b[38;5;241m.\u001b[39mis_top_corpo \u001b[38;5;241m=\u001b[39m \u001b[38;5;241m1\u001b[39m\n\u001b[1;32m      8\u001b[0m \u001b[38;5;28;01melse\u001b[39;00m:\n\u001b[0;32m----> 9\u001b[0m     row\u001b[38;5;241m.\u001b[39mis_top_corpo \u001b[38;5;241m=\u001b[39m \u001b[38;5;241m0\u001b[39m\n",
      "\u001b[0;31mAttributeError\u001b[0m: can't set attribute"
     ]
    }
   ],
   "source": [
    "for row in main_df.itertuples():\n",
    "    main_index = row.Index\n",
    "    query = corp_df.loc[corp_df['index']==main_index]\n",
    "    print(main_index)\n",
    "    \n",
    "    if len(query) > 0 and query.iloc[0]['Is_top_corpo'] == 1:\n",
    "        row.is_top_corpo = 1\n",
    "    else:\n",
    "        row.is_top_corpo = 0"
   ]
  },
  {
   "cell_type": "code",
   "execution_count": null,
   "id": "d0339554",
   "metadata": {},
   "outputs": [],
   "source": []
  },
  {
   "cell_type": "code",
   "execution_count": null,
   "id": "0e532937",
   "metadata": {},
   "outputs": [],
   "source": []
  },
  {
   "cell_type": "code",
   "execution_count": null,
   "id": "2202c1a1",
   "metadata": {},
   "outputs": [],
   "source": []
  },
  {
   "cell_type": "code",
   "execution_count": null,
   "id": "abcceb61",
   "metadata": {},
   "outputs": [],
   "source": []
  }
 ],
 "metadata": {
  "kernelspec": {
   "display_name": "Python 3 (ipykernel)",
   "language": "python",
   "name": "python3"
  },
  "language_info": {
   "codemirror_mode": {
    "name": "ipython",
    "version": 3
   },
   "file_extension": ".py",
   "mimetype": "text/x-python",
   "name": "python",
   "nbconvert_exporter": "python",
   "pygments_lexer": "ipython3",
   "version": "3.8.9"
  }
 },
 "nbformat": 4,
 "nbformat_minor": 5
}
