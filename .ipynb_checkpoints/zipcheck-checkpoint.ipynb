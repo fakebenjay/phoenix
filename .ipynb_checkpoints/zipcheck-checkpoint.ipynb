{
 "cells": [
  {
   "cell_type": "code",
   "execution_count": 1,
   "id": "53f23b94",
   "metadata": {},
   "outputs": [],
   "source": [
    "import json"
   ]
  },
  {
   "cell_type": "code",
   "execution_count": null,
   "id": "dc7b697b",
   "metadata": {},
   "outputs": [],
   "source": [
    "usedZIPs = [\n",
    "'85003',\n",
    "'85004',\n",
    "'85005',\n",
    "'85006',\n",
    "'85007',\n",
    "'85008',\n",
    "'85009',\n",
    "'85012',\n",
    "'85013',\n",
    "'85014',\n",
    "'85015',\n",
    "'85016',\n",
    "'85017',\n",
    "'85018',\n",
    "'85019',\n",
    "'85020',\n",
    "'85021',\n",
    "'85022',\n",
    "'85023',\n",
    "'85024',\n",
    "'85027',\n",
    "'85028',\n",
    "'85029',\n",
    "'85031',\n",
    "'85032',\n",
    "'85033',\n",
    "'85034',\n",
    "'85035',\n",
    "'85037',\n",
    "'85040',\n",
    "'85041',\n",
    "'85042',\n",
    "'85043',\n",
    "'85044',\n",
    "'85045',\n",
    "'85048',\n",
    "'85050',\n",
    "'85051',\n",
    "'85053',\n",
    "'85054',\n",
    "'85083',\n",
    "'85085',\n",
    "'85086'\n",
    "]"
   ]
  }
 ],
 "metadata": {
  "kernelspec": {
   "display_name": "Python 3 (ipykernel)",
   "language": "python",
   "name": "python3"
  },
  "language_info": {
   "codemirror_mode": {
    "name": "ipython",
    "version": 3
   },
   "file_extension": ".py",
   "mimetype": "text/x-python",
   "name": "python",
   "nbconvert_exporter": "python",
   "pygments_lexer": "ipython3",
   "version": "3.8.9"
  }
 },
 "nbformat": 4,
 "nbformat_minor": 5
}
