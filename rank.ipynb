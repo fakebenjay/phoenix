{
 "cells": [
  {
   "cell_type": "code",
   "execution_count": 5,
   "id": "c7216c6f",
   "metadata": {},
   "outputs": [],
   "source": [
    "import json\n",
    "\n",
    "with open('phoenix-data-filterv3.json') as f:  \n",
    "    data = json.load(f)"
   ]
  },
  {
   "cell_type": "code",
   "execution_count": 6,
   "id": "52ca8afa",
   "metadata": {},
   "outputs": [],
   "source": [
    "features = data['features']"
   ]
  },
  {
   "cell_type": "code",
   "execution_count": 7,
   "id": "3156f54a",
   "metadata": {},
   "outputs": [
    {
     "data": {
      "text/plain": [
       "{'ZCTA5CE20': '85085',\n",
       " 'GEOID20': '85085',\n",
       " 'CLASSFP20': 'B5',\n",
       " 'MTFCC20': 'G6350',\n",
       " 'FUNCSTAT20': 'S',\n",
       " 'ALAND20': 98725707,\n",
       " 'AWATER20': 92484,\n",
       " 'INTPTLAT20': '+33.7526141',\n",
       " 'INTPTLON20': '-112.0901571',\n",
       " 'total': 670,\n",
       " 'corpo': 127,\n",
       " 'top_corpo': 75,\n",
       " 'corpo_rate': 0.18955223880597014,\n",
       " 'top_corpo_rate': 0.11194029850746269}"
      ]
     },
     "execution_count": 7,
     "metadata": {},
     "output_type": "execute_result"
    }
   ],
   "source": [
    "features[0]['properties']"
   ]
  },
  {
   "cell_type": "code",
   "execution_count": 8,
   "id": "9b60f559",
   "metadata": {},
   "outputs": [],
   "source": [
    "features.sort(key=lambda x: x['properties']['top_corpo_rate'], reverse=True)"
   ]
  },
  {
   "cell_type": "code",
   "execution_count": 9,
   "id": "390daf47",
   "metadata": {},
   "outputs": [],
   "source": [
    "counter = 1\n",
    "for f in features:\n",
    "    if f['properties']['top_corpo_rate'] == 0:\n",
    "        f['properties']['top_corpo_rank'] = 40\n",
    "    else:   \n",
    "        f['properties']['top_corpo_rank'] = counter\n",
    "        \n",
    "    f['properties']['top_corpo_pct_of_citywide'] = f['properties']['top_corpo_rate'] / 0.182828037836527\n",
    "    counter += 1"
   ]
  },
  {
   "cell_type": "code",
   "execution_count": 10,
   "id": "f5d09d7a",
   "metadata": {},
   "outputs": [],
   "source": [
    "data['features'] = features"
   ]
  },
  {
   "cell_type": "code",
   "execution_count": 11,
   "id": "082cc0e5",
   "metadata": {},
   "outputs": [],
   "source": [
    "with open(\"phoenix-data-rankedv3.json\", \"w\") as outfile:\n",
    "    json.dump(data, outfile)"
   ]
  },
  {
   "cell_type": "code",
   "execution_count": null,
   "id": "a8d94fe4",
   "metadata": {},
   "outputs": [],
   "source": []
  },
  {
   "cell_type": "code",
   "execution_count": null,
   "id": "52d155fb",
   "metadata": {},
   "outputs": [],
   "source": []
  },
  {
   "cell_type": "code",
   "execution_count": null,
   "id": "0768b663",
   "metadata": {},
   "outputs": [],
   "source": []
  },
  {
   "cell_type": "code",
   "execution_count": null,
   "id": "d77bae03",
   "metadata": {},
   "outputs": [],
   "source": []
  }
 ],
 "metadata": {
  "kernelspec": {
   "display_name": "Python 3 (ipykernel)",
   "language": "python",
   "name": "python3"
  },
  "language_info": {
   "codemirror_mode": {
    "name": "ipython",
    "version": 3
   },
   "file_extension": ".py",
   "mimetype": "text/x-python",
   "name": "python",
   "nbconvert_exporter": "python",
   "pygments_lexer": "ipython3",
   "version": "3.8.9"
  }
 },
 "nbformat": 4,
 "nbformat_minor": 5
}
